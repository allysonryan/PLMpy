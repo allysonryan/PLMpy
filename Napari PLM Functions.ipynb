{
 "cells": [
  {
   "cell_type": "code",
   "execution_count": null,
   "metadata": {},
   "outputs": [],
   "source": [
    "from __future__ import print_function, division\n",
    "import os\n",
    "import numpy as np\n",
    "import matplotlib.pyplot as plt\n",
    "import skimage.io as io\n",
    "from scipy.ndimage import *\n",
    "import pylab\n",
    "from scipy.stats import *\n",
    "from math import *\n",
    "from windrose import WindroseAxes\n",
    "\n",
    "from scipy.ndimage import label, median_filter\n",
    "from skimage.morphology import square"
   ]
  },
  {
   "cell_type": "code",
   "execution_count": null,
   "metadata": {},
   "outputs": [],
   "source": [
    "def find_sub_directories(rootdir):\n",
    "    \n",
    "    '''Use this function to find all folders containing files you wish to analyze.'''\n",
    "    \n",
    "    sub_directories = []\n",
    "    \n",
    "    for file in os.listdir(rootdir):\n",
    "        d = os.path.join(rootdir, file)\n",
    "        \n",
    "        if os.path.isdir(d):\n",
    "            sub_directories.append(d)\n",
    "            \n",
    "        else:\n",
    "            continue\n",
    "            \n",
    "    return(sub_directories)"
   ]
  },
  {
   "cell_type": "code",
   "execution_count": null,
   "metadata": {},
   "outputs": [],
   "source": [
    "def bin_orientation_images(image, percentile, ...):\n",
    "    \n",
    "    '''returns...'''\n",
    "    \n",
    "    .\n",
    "    .\n",
    "    .\n",
    "    \n",
    "    return bin_bounds, binned_images"
   ]
  },
  {
   "cell_type": "code",
   "execution_count": null,
   "metadata": {},
   "outputs": [],
   "source": [
    "def bin_retardance_images(image, floor, ceiling, percentile, ...):\n",
    "    \n",
    "    '''returns...'''\n",
    "    \n",
    "    .\n",
    "    .\n",
    "    .\n",
    "    \n",
    "    return bin_bounds, binned_images, pixel_counts, object_counts, labeled_images"
   ]
  },
  {
   "cell_type": "code",
   "execution_count": null,
   "metadata": {},
   "outputs": [],
   "source": [
    "def label_binned_images(binned_image, ...):\n",
    "    \n",
    "    '''returns the following information for a percentile-based binned image: \n",
    "    number of True pixels, number of N_26 connected components (i.e. objects), \n",
    "    and a labeled image where each N_26 connected components has a unique scalar identifier \n",
    "    (background is labeled as 0)'''\n",
    "    \n",
    "    .\n",
    "    .\n",
    "    .\n",
    "    \n",
    "    return pixel_counts, object_counts, labeled_images"
   ]
  },
  {
   "cell_type": "code",
   "execution_count": null,
   "metadata": {},
   "outputs": [],
   "source": [
    "def object_size_assessment(labeled_image, ...):\n",
    "    \n",
    "    '''returns an 2D array containing object sizes (column 2) sorted by object identifier (column 1)'''\n",
    "    \n",
    "    .\n",
    "    .\n",
    "    .\n",
    "    \n",
    "    return object_sizes"
   ]
  },
  {
   "cell_type": "code",
   "execution_count": null,
   "metadata": {},
   "outputs": [],
   "source": [
    "def sum_binned_images(labeled_images, ...):\n",
    "    \n",
    "    .\n",
    "    .\n",
    "    .\n",
    "    \n",
    "    return summed_img"
   ]
  },
  {
   "cell_type": "code",
   "execution_count": null,
   "metadata": {},
   "outputs": [],
   "source": [
    "def label_processed_image(summed_img):\n",
    "    \n",
    "    .\n",
    "    .\n",
    "    .\n",
    "    \n",
    "    return labeled_image,"
   ]
  },
  {
   "cell_type": "code",
   "execution_count": null,
   "metadata": {},
   "outputs": [],
   "source": [
    "def cyclic_colormap_sampling(n):\n",
    "    \n",
    "    '''returns...'''\n",
    "    \n",
    "    .\n",
    "    .\n",
    "    .\n",
    "    \n",
    "    return sampled_rgba_values"
   ]
  },
  {
   "cell_type": "code",
   "execution_count": null,
   "metadata": {},
   "outputs": [],
   "source": [
    "def export_lut_rgba(cmap_values):\n",
    "    \n",
    "    '''saves matplotlib format rgba value LUT as a text file and as a numpy file'''\n",
    "    \n",
    "    .\n",
    "    .\n",
    "    .\n",
    "    \n",
    "    return lut_file"
   ]
  },
  {
   "cell_type": "code",
   "execution_count": null,
   "metadata": {},
   "outputs": [],
   "source": [
    "def export_lut_rgb(cmap_values):\n",
    "    \n",
    "    '''converts and saves a matplotlib format rgba value LUT as an RGB text file that can be imported to FIJI'''\n",
    "    \n",
    "    .\n",
    "    .\n",
    "    .\n",
    "    \n",
    "    return lut_file"
   ]
  },
  {
   "cell_type": "code",
   "execution_count": null,
   "metadata": {},
   "outputs": [],
   "source": [
    "def index_roi_angles(...):\n",
    "    \n",
    "    .\n",
    "    .\n",
    "    .\n",
    "    \n",
    "    return roi_info"
   ]
  }
 ],
 "metadata": {
  "kernelspec": {
   "display_name": "Python 3",
   "language": "python",
   "name": "python3"
  },
  "language_info": {
   "codemirror_mode": {
    "name": "ipython",
    "version": 3
   },
   "file_extension": ".py",
   "mimetype": "text/x-python",
   "name": "python",
   "nbconvert_exporter": "python",
   "pygments_lexer": "ipython3",
   "version": "3.8.0"
  }
 },
 "nbformat": 4,
 "nbformat_minor": 4
}
