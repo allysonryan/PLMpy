{
 "cells": [
  {
   "cell_type": "code",
   "execution_count": null,
   "metadata": {},
   "outputs": [],
   "source": [
    "from __future__ import print_function, division\n",
    "import os\n",
    "import numpy as np\n",
    "import matplotlib.pyplot as plt\n",
    "import skimage.io as io\n",
    "from scipy.ndimage import *\n",
    "import pylab\n",
    "from scipy.stats import *\n",
    "from math import *\n",
    "from windrose import WindroseAxes\n",
    "\n",
    "from scipy.ndimage import label, median_filter\n",
    "from skimage.morphology import square"
   ]
  },
  {
   "cell_type": "code",
   "execution_count": null,
   "metadata": {},
   "outputs": [],
   "source": [
    "def find_sub_directories(rootdir):\n",
    "    \n",
    "    sub_directories = []\n",
    "    \n",
    "    for file in os.listdir(rootdir):\n",
    "        d = os.path.join(rootdir, file)\n",
    "        \n",
    "        if os.path.isdir(d):\n",
    "            sub_directories.append(d)\n",
    "            \n",
    "        else:\n",
    "            continue\n",
    "            \n",
    "    return(sub_directories)"
   ]
  },
  {
   "cell_type": "code",
   "execution_count": null,
   "metadata": {},
   "outputs": [],
   "source": [
    "TOP_PATH = r'/Users/ryan/Desktop/2018_09_21/SMS_2018_0921_1047_1_goodCrop/Retardance'"
   ]
  },
  {
   "cell_type": "code",
   "execution_count": null,
   "metadata": {},
   "outputs": [],
   "source": [
    "SAVE_PATH = os.makedirs(os.path.join(TOP_PATH, 'round 2'))\n",
    "SAVE_PATH = os.path.join(TOP_PATH, 'round 2')"
   ]
  },
  {
   "cell_type": "code",
   "execution_count": null,
   "metadata": {},
   "outputs": [],
   "source": [
    "## for running the second round of percentile based cleaning\n",
    "#IMGS = tuple(np.load(os.path.join(TOP_PATH, 'INDEXED test.npy'), allow_pickle=True))\n",
    "#NAMES = tuple(np.load(os.path.join(TOP_PATH, 'NAMES test.npy'), allow_pickle=True))\n",
    "#print(len(IMGS), len(NAMES))"
   ]
  },
  {
   "cell_type": "code",
   "execution_count": null,
   "metadata": {
    "scrolled": true
   },
   "outputs": [],
   "source": [
    "STR_IDENTIFIER = '.tif'\n",
    "FILE_TYPE = '.tif'\n",
    "PROCESS = 'float'\n",
    "\n",
    "FILES = os.listdir(TOP_PATH)\n",
    "print(FILES)\n",
    "STR_TRIM = len(FILE_TYPE)\n",
    "\n",
    "IMGS = []\n",
    "NAMES = []\n",
    "for i in FILES:\n",
    "    if i.endswith(STR_IDENTIFIER):\n",
    "        NAMES.append(i[:-STR_TRIM])\n",
    "        if 'Retardance' in i:\n",
    "            IMGS.append((io.imread(os.path.join(TOP_PATH,i)))) # retardance\n",
    "        elif 'Orientation' in i:\n",
    "            if PROCESS == 'float':\n",
    "                IMGS.append(np.around((io.imread(os.path.join(TOP_PATH,i))/100).astype(np.float), decimals=3)) # convert array values to degrees\n",
    "            elif ROCESS == 'int':\n",
    "                IMGS.append((io.imread(os.path.join(TOP_PATH,i))/100).astype(np.uint8)) # convert array values to degrees\n",
    "            else:\n",
    "                print('preprocessing info incomplete')\n",
    "        else:\n",
    "            print('unknown image type')\n",
    "    else:\n",
    "        continue\n",
    "NAMES = tuple(NAMES)\n",
    "IMGS = tuple(IMGS)\n",
    "\n",
    "print(NAMES)\n",
    "\n",
    "for i in IMGS:\n",
    "    plt.imshow(i, cmap = 'hsv')\n",
    "    plt.show()"
   ]
  },
  {
   "cell_type": "code",
   "execution_count": null,
   "metadata": {},
   "outputs": [],
   "source": [
    "PERCENTILES, PAIRS, FILT_IMGS, PX_CT, OB_CT, L_IMGS = [], [], [], [], [], []\n",
    "\n",
    "for i in IMGS:\n",
    "    \n",
    "    t = tuple(np.percentile(i, np.arange(0,101,10)).astype(float)) #based on frequency of angles in image\n",
    "    #t = tuple(np.arange(0,181,2).astype(int)) #fixed angle bin width\n",
    "    #t = tuple(np.arange(0,np.amax(i),10).astype(int)) #fixed angle bin width retardance\n",
    "    PERCENTILES.append(t)\n",
    "    p = tuple([(t[j], t[j+1]) for j in range(len(t)-1)])\n",
    "    PAIRS.append(p)\n",
    "    \n",
    "    f_i = []\n",
    "    px = []\n",
    "    ob = []\n",
    "    l_i = []\n",
    "    \n",
    "    for j in p:\n",
    "        \n",
    "        a = np.copy(i)\n",
    "        a[i <= j[0]] = 0\n",
    "        #a[i < j[0]] = 0\n",
    "        a[i > j[1]] = 0\n",
    "        f_i.append(a)\n",
    "        \n",
    "        l = label(binary_opening(a, structure=square(3)), structure=square(3))\n",
    "        l_i.append(l[0])\n",
    "        ob.append(l[1])\n",
    "        px.append(np.sum(a.astype(bool).astype(int)))\n",
    "        \n",
    "    FILT_IMGS.append(tuple(f_i))\n",
    "    PX_CT.append(tuple(px))\n",
    "    OB_CT.append(tuple(ob))\n",
    "    L_IMGS.append(tuple(l_i))\n",
    "    \n",
    "PERCENTILES, PAIRS, FILT_IMGS, PX_CT, OB_CT, L_IMGS = (tuple(PERCENTILES), tuple(PAIRS), tuple(FILT_IMGS), \n",
    "                                                       tuple(PX_CT), tuple(OB_CT), tuple(L_IMGS))"
   ]
  },
  {
   "cell_type": "code",
   "execution_count": null,
   "metadata": {
    "scrolled": true
   },
   "outputs": [],
   "source": [
    "SIZES = []\n",
    "for i in range(len(L_IMGS)):\n",
    "    print('begin loop:', i)\n",
    "    l = L_IMGS[i]\n",
    "    s_1 = []\n",
    "    \n",
    "    for j in range(len(l)):\n",
    "        print('   --> subloop:', j)\n",
    "        current = l[j]\n",
    "        ids = np.arange(1,OB_CT[i][j]+1,1)\n",
    "        s_2 = []\n",
    "        \n",
    "        for k in ids:\n",
    "            s_2.append(np.where(current.flatten() == k)[0].shape[0])\n",
    "            \n",
    "        s_2 = np.concatenate((np.reshape(ids, (ids.shape[0], 1)), np.reshape(s_2, (len(s_2), 1))), axis = 1)\n",
    "        s_1.append(s_2)\n",
    "    \n",
    "    SIZES.append(tuple(s_1))\n",
    "    print('       --> complete loop:', i)\n",
    "    print('')\n",
    "SIZES = tuple(SIZES)"
   ]
  },
  {
   "cell_type": "code",
   "execution_count": null,
   "metadata": {
    "scrolled": true
   },
   "outputs": [],
   "source": [
    "MASKS, INDEXED, TISSUES = [], [], []\n",
    "for i in range(len(L_IMGS)):\n",
    "    \n",
    "    stack = np.sum(np.stack(L_IMGS[i]), axis = 0)\n",
    "    print('mask')\n",
    "    plt.imshow(stack.astype(bool))\n",
    "    plt.show()\n",
    "    MASKS.append(stack.astype(np.uint8))\n",
    "    \n",
    "    a = np.copy(IMGS[i])\n",
    "    a[stack == False] = 0\n",
    "    print('indexed back to original')\n",
    "    plt.imshow(a)\n",
    "    plt.show()\n",
    "    INDEXED.append(a)\n",
    "    \n",
    "    TISSUES.append(label(a, structure=square(3)))\n",
    "    print('labeled')\n",
    "    plt.imshow(TISSUES[-1][0])\n",
    "    plt.show()\n",
    "\n",
    "MASKS, INDEXED = (tuple(MASKS), tuple(INDEXED))"
   ]
  },
  {
   "cell_type": "code",
   "execution_count": null,
   "metadata": {},
   "outputs": [],
   "source": [
    "np.save(os.path.join(SAVE_PATH, 'NAMES test.npy'), NAMES, allow_pickle=True)\n",
    "np.save(os.path.join(SAVE_PATH, 'IMGS test.npy'), IMGS, allow_pickle=True)\n",
    "np.save(os.path.join(SAVE_PATH, 'PERCENTILES test.npy'), PERCENTILES, allow_pickle=True)\n",
    "np.save(os.path.join(SAVE_PATH, 'PAIRS test.npy'), PAIRS, allow_pickle=True)\n",
    "np.save(os.path.join(SAVE_PATH, 'FILT_IMGS test.npy'), FILT_IMGS, allow_pickle=True)\n",
    "np.save(os.path.join(SAVE_PATH, 'PX_CT test.npy'), PX_CT, allow_pickle=True)\n",
    "np.save(os.path.join(SAVE_PATH, 'OB_CT test.npy'), OB_CT, allow_pickle=True)\n",
    "np.save(os.path.join(SAVE_PATH, 'L_IMGS test.npy'), L_IMGS, allow_pickle=True)\n",
    "np.save(os.path.join(SAVE_PATH, 'SIZES test.npy'), SIZES, allow_pickle=True)\n",
    "np.save(os.path.join(SAVE_PATH, 'MASKS test.npy'), MASKS, allow_pickle=True)\n",
    "np.save(os.path.join(SAVE_PATH, 'INDEXED test.npy'), INDEXED, allow_pickle=True)\n",
    "np.save(os.path.join(SAVE_PATH, 'TISSUES test.npy'), TISSUES, allow_pickle=True)"
   ]
  },
  {
   "cell_type": "markdown",
   "metadata": {},
   "source": [
    "# Convert Files for Diana's Paper"
   ]
  },
  {
   "cell_type": "code",
   "execution_count": null,
   "metadata": {},
   "outputs": [],
   "source": [
    "TOP_PATH = r'/Users/ryan/Desktop/Diana | Suture/PLM/coronal_sections/Orientation/EXTRA RUNS'\n",
    "SUB_DIRS = find_sub_directories(TOP_PATH)\n",
    "print(SUB_DIRS)"
   ]
  },
  {
   "cell_type": "code",
   "execution_count": null,
   "metadata": {
    "scrolled": false
   },
   "outputs": [],
   "source": [
    "for i in SUB_DIRS:\n",
    "    idx_imgs = tuple(np.load(os.path.join(i, 'INDEXED test.npy'), allow_pickle=True))\n",
    "    names = tuple(np.load(os.path.join(i, 'NAMES test.npy'), allow_pickle=True))\n",
    "    for j in range(len(idx_imgs)):\n",
    "        plt.figure(figsize=(5,5))\n",
    "        #plt.imshow(idx_imgs[j].astype(bool), cmap = 'cool')\n",
    "        plt.imshow(idx_imgs[j].astype(bool), cmap = 'magma')\n",
    "        plt.axis('off')\n",
    "        plt.tight_layout()\n",
    "        plt.show()\n",
    "        io.imsave(os.path.join(i, names[j] + ' idx.tif'), idx_imgs[j])"
   ]
  },
  {
   "cell_type": "code",
   "execution_count": null,
   "metadata": {},
   "outputs": [],
   "source": [
    "DAA_HEX_CODES = (('E13.5 Suture', '#A981B9'),('E15.5 Suture', '#6D3687'),('E17.5 Suture','#46919B'),\n",
    "                 ('E15.5 Bone','#3C5FB0'),('E15.5 BAPN','#B6AFFF'))\n",
    "\n",
    "DAA_LABELS = ('E13.5', 'E15.5', 'E17.5')\n",
    "DAA_COLORS = ('#A981B9','#6D3687','#46919B')\n",
    "\n",
    "for i in SUB_DIRS:\n",
    "    idx_imgs = tuple(np.load(os.path.join(i, 'INDEXED test.npy'), allow_pickle=True))\n",
    "    names = tuple(np.load(os.path.join(i, 'NAMES test.npy'), allow_pickle=True))\n",
    "    for j in range(len(idx_imgs)):\n",
    "        x = idx_imgs[j].flatten()\n",
    "        x = x[x>0]\n",
    "        np.savetxt(os.path.join(i, names[j] + ' angles in denoised.csv'), x, delimiter=',')\n",
    "        print(x.shape)\n",
    "        plt.figure(figsize=(10,5))\n",
    "        plt.hist(x, bins = 'fd', color= DAA_COLORS[DAA_LABELS.index(names[j][:5])], label = names[j])\n",
    "        plt.xlim(0,180)\n",
    "        plt.xticks(fontsize = 20)\n",
    "        plt.yticks(fontsize = 20)\n",
    "        plt.ylabel('Pixel Count', fontsize = 28)\n",
    "        plt.xlabel('Angle', fontsize = 28)\n",
    "        plt.legend(fontsize = 20)\n",
    "        plt.tight_layout()\n",
    "        plt.savefig(os.path.join(i, names[j] + ' indexed angle distribution.png'), dpi = 300)\n",
    "        plt.show()"
   ]
  },
  {
   "cell_type": "code",
   "execution_count": null,
   "metadata": {},
   "outputs": [],
   "source": [
    "for i in SUB_DIRS:\n",
    "    labeled = tuple(np.load(os.path.join(i, 'TISSUES test.npy'), allow_pickle=True))\n",
    "    for j in labeled:\n",
    "        print(j[1])\n",
    "        ids = np.unique(j[0])\n",
    "        for k in ids:\n",
    "            if k > 0:\n",
    "                print(np.where(j[0].flatten() == k)[0].shape[0])\n",
    "            else:\n",
    "                continue"
   ]
  },
  {
   "cell_type": "code",
   "execution_count": null,
   "metadata": {},
   "outputs": [],
   "source": [
    "paper_path = r'/Users/ryan/Desktop/Diana | Suture/PLM/coronal_sections/Orientation'\n",
    "ROIs = []\n",
    "NMs = []\n",
    "for i in os.listdir(paper_path):\n",
    "    if i.endswith('roi only.tif'):\n",
    "        NMs.append(i)\n",
    "        ROIs.append(io.imread(os.path.join(paper_path,i)))\n",
    "    else:\n",
    "        continue\n",
    "print(len(ROIs))\n",
    "print(NMs)\n",
    "\n",
    "for i in range(len(ROIs)):\n",
    "    plt.hist(ROIs[i][ROIs[i]>0], bins = 'fd')\n",
    "    np.savetxt(os.path.join(paper_path, NMs[i][:-4] + ' angle distribution.csv'), ROIs[i][ROIs[i] > 0], delimiter=',')\n",
    "    plt.show()"
   ]
  },
  {
   "cell_type": "code",
   "execution_count": null,
   "metadata": {},
   "outputs": [],
   "source": [
    "cb_path = r'/Users/ryan/Desktop/Diana | Suture/PLM/coronal_sections/Orientation/EXTRA RUNS/float pr10 fs3 round 2'\n",
    "binned_imgs = tuple(np.load(os.path.join(cb_path, 'FILT_IMGS test.npy'), allow_pickle=True))\n",
    "print(len(binned_imgs))\n",
    "cb_names = tuple(np.load(os.path.join(cb_path, 'NAMES test.npy'), allow_pickle=True))\n",
    "print(cb_names)"
   ]
  },
  {
   "cell_type": "code",
   "execution_count": null,
   "metadata": {},
   "outputs": [],
   "source": [
    "from pylab import get_cmap"
   ]
  },
  {
   "cell_type": "code",
   "execution_count": null,
   "metadata": {},
   "outputs": [],
   "source": [
    "from matplotlib.colors import ListedColormap"
   ]
  },
  {
   "cell_type": "code",
   "execution_count": null,
   "metadata": {},
   "outputs": [],
   "source": [
    "viridis = get_cmap('viridis', 10)\n",
    "newcolors = viridis(np.linspace(0, 1, 256))\n",
    "pink = np.array([248/256, 24/256, 148/256, 1])\n",
    "newcolors[:25, :] = pink\n",
    "newcmp = ListedColormap(newcolors)\n"
   ]
  },
  {
   "cell_type": "code",
   "execution_count": null,
   "metadata": {},
   "outputs": [],
   "source": [
    "newcmp"
   ]
  },
  {
   "cell_type": "code",
   "execution_count": null,
   "metadata": {},
   "outputs": [],
   "source": [
    "cb_cmap = get_cmap('hsv', 10)\n",
    "colors = cb_cmap(np.linspace(0,1,11))"
   ]
  },
  {
   "cell_type": "code",
   "execution_count": null,
   "metadata": {},
   "outputs": [],
   "source": [
    "black = np.reshape(np.asarray([0,0,0,1]), (1,4))"
   ]
  },
  {
   "cell_type": "code",
   "execution_count": null,
   "metadata": {},
   "outputs": [],
   "source": [
    "colors_black = np.concatenate((black, colors), axis = 0)\n",
    "print(colors_black)"
   ]
  },
  {
   "cell_type": "code",
   "execution_count": null,
   "metadata": {},
   "outputs": [],
   "source": [
    "colors_black.flatten().shape"
   ]
  },
  {
   "cell_type": "code",
   "execution_count": null,
   "metadata": {},
   "outputs": [],
   "source": [
    "np.savetxt(os.path.join(paper_path, 'hsv colormap with black background.txt'), colors_black, delimiter=',')"
   ]
  },
  {
   "cell_type": "code",
   "execution_count": null,
   "metadata": {
    "scrolled": false
   },
   "outputs": [],
   "source": [
    "#color_blocked = []\n",
    "for i in range(len(binned_imgs)):\n",
    "    plt.figure(figsize=(10,10))\n",
    "    plt.imshow(binned_imgs[i].max(axis = 0), cmap=ListedColormap(colors_black))\n",
    "    plt.axis('off')\n",
    "    plt.show()"
   ]
  }
 ],
 "metadata": {
  "kernelspec": {
   "display_name": "Python 3",
   "language": "python",
   "name": "python3"
  },
  "language_info": {
   "codemirror_mode": {
    "name": "ipython",
    "version": 3
   },
   "file_extension": ".py",
   "mimetype": "text/x-python",
   "name": "python",
   "nbconvert_exporter": "python",
   "pygments_lexer": "ipython3",
   "version": "3.8.0"
  }
 },
 "nbformat": 4,
 "nbformat_minor": 4
}
