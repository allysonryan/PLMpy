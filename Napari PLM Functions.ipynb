{
 "cells": [
  {
   "cell_type": "code",
   "execution_count": 1,
   "metadata": {},
   "outputs": [],
   "source": [
    "from __future__ import print_function, division\n",
    "import os\n",
    "import numpy as np\n",
    "import matplotlib.pyplot as plt\n",
    "import skimage.io as io\n",
    "from scipy.ndimage import *\n",
    "import pylab\n",
    "from scipy.stats import *\n",
    "from math import *\n",
    "from windrose import WindroseAxes\n",
    "\n",
    "from scipy.ndimage import label, median_filter\n",
    "from skimage.morphology import square"
   ]
  },
  {
   "cell_type": "code",
   "execution_count": null,
   "metadata": {},
   "outputs": [],
   "source": [
    "def find_sub_directories(rootdir):\n",
    "    \n",
    "    '''Use this function to find all folders containing files you wish to analyze.'''\n",
    "    \n",
    "    sub_directories = []\n",
    "    \n",
    "    for file in os.listdir(rootdir):\n",
    "        d = os.path.join(rootdir, file)\n",
    "        \n",
    "        if os.path.isdir(d):\n",
    "            sub_directories.append(d)\n",
    "            \n",
    "        else:\n",
    "            continue\n",
    "            \n",
    "    return(sub_directories)"
   ]
  },
  {
   "cell_type": "code",
   "execution_count": null,
   "metadata": {},
   "outputs": [],
   "source": [
    "def set_percentile_tuples(image, step):\n",
    "    \n",
    "    '''returns'''\n",
    "    \n",
    "    p = tuple(np.percentile(image, np.arange(0,101,step)).astype(float))\n",
    "    bin_bounds = tuple([(p[j], p[j+1]) for j in range(len(p)-1)])\n",
    "    \n",
    "    return p, bin_bounds"
   ]
  },
  {
   "cell_type": "code",
   "execution_count": null,
   "metadata": {},
   "outputs": [],
   "source": [
    "def bin_orientation_images(image, bin_bounds):\n",
    "    \n",
    "    '''returns...'''\n",
    "    \n",
    "    binned_images = []\n",
    "    for j in bin_bound_pairs:\n",
    "        a = np.copy(image)\n",
    "        a[image <= j[0]] = 0\n",
    "        a[image > j[1]]  = 0\n",
    "        binned_images.append(a)\n",
    "    binned_images = tuple(binned_images)\n",
    "\n",
    "    return binned_images"
   ]
  },
  {
   "cell_type": "code",
   "execution_count": null,
   "metadata": {},
   "outputs": [],
   "source": [
    "def bin_retardance_images(image, floor, ceiling, bin_bounds, ...):\n",
    "    \n",
    "    '''returns...'''\n",
    "    \n",
    "    .\n",
    "    .\n",
    "    .\n",
    "    \n",
    "    return bin_bounds, binned_images"
   ]
  },
  {
   "cell_type": "code",
   "execution_count": null,
   "metadata": {},
   "outputs": [],
   "source": [
    "# double check the default variable assignments\n",
    "\n",
    "def label_binned_images(binned_images, noise_size = 3, label_size = 3, return_object_count = 'True', return_pixel_count = 'True'):\n",
    "    \n",
    "    '''returns the following information for a percentile-based binned image: \n",
    "    number of True pixels, number of N_26 connected components (i.e. objects), \n",
    "    and a labeled image where each N_26 connected components has a unique scalar identifier \n",
    "    (background is labeled as 0)'''\n",
    "    \n",
    "    labeled_images = []\n",
    "    if return_object_count == 'True':\n",
    "        object_count = []\n",
    "    if return_pixel_count == 'True':\n",
    "        pixel_count = []\n",
    "    \n",
    "    for j in binned_images:\n",
    "        l = label(binary_opening(j, structure = square(noise_size)), structure = square(label_size))\n",
    "        labeled_images.append(l[0])\n",
    "        if return_object_count == 'True':\n",
    "            object_count.append(l[1])\n",
    "        else:\n",
    "            continue\n",
    "        if return_pixel_count == 'True':\n",
    "            pixel_count.append(np.sum(j.astype(bool).astype(int)))\n",
    "        else:\n",
    "            continue\n",
    "        \n",
    "    labeled_images, object_count, pixel_count = (tuple(labeled_images), tuple(object_count), tuple(pixel_count))\n",
    "    \n",
    "    return labeled_images, object_count, pixel_count"
   ]
  },
  {
   "cell_type": "code",
   "execution_count": null,
   "metadata": {},
   "outputs": [],
   "source": [
    "def object_size_assessment(labeled_images, object_count):\n",
    "    \n",
    "    '''returns an 2D array containing object sizes (column 2) sorted by object identifier (column 1)'''\n",
    "    \n",
    "    object_sizes = []\n",
    "    \n",
    "    for j in range(len(labeled_images)):\n",
    "        current = labeled_images[j]\n",
    "        ids = np.arange(1, object_count[j]+1, 1)\n",
    "        \n",
    "        s = []\n",
    "        for k in ids:\n",
    "            s.append(np.where(current.flatten() == k)[0].shape[0])\n",
    "        s = np.concatenate((np.reshape(ids, (ids.shape[0], 1)), np.reshape(s, (len(s), 1))), axis = 1)\n",
    "        object_sizes.append(s)\n",
    "        \n",
    "    object_sizes = tuple(object_sizes)\n",
    "    \n",
    "    return object_sizes"
   ]
  },
  {
   "cell_type": "code",
   "execution_count": null,
   "metadata": {},
   "outputs": [],
   "source": [
    "def sum_cleaned_images(labeled_images, image):\n",
    "    \n",
    "    '''returns'''\n",
    "    \n",
    "    stack = np.sum(np.stack(labeled_images), axis = 0).astype(bool).astype(np.uint8)\n",
    "    a = np.copy(image)\n",
    "    a[stack == False] = 0\n",
    "    \n",
    "    return stack, a"
   ]
  },
  {
   "cell_type": "code",
   "execution_count": null,
   "metadata": {},
   "outputs": [],
   "source": [
    "def label_processed_image(summed_img, label_size = 3):\n",
    "    \n",
    "    label_summed = label(summed_img, structure(square(label_size)))\n",
    "    \n",
    "    return label_summed"
   ]
  },
  {
   "cell_type": "code",
   "execution_count": null,
   "metadata": {},
   "outputs": [],
   "source": [
    "def cyclic_colormap_sampling(n):\n",
    "    \n",
    "    '''returns...'''\n",
    "    \n",
    "    .\n",
    "    .\n",
    "    .\n",
    "    \n",
    "    return sampled_rgba_values"
   ]
  },
  {
   "cell_type": "code",
   "execution_count": null,
   "metadata": {},
   "outputs": [],
   "source": [
    "def export_lut_rgba(cmap_values):\n",
    "    \n",
    "    '''saves matplotlib format rgba value LUT as a text file and/or as a numpy file'''\n",
    "    \n",
    "    .\n",
    "    .\n",
    "    .\n",
    "    \n",
    "    return lut_file"
   ]
  },
  {
   "cell_type": "code",
   "execution_count": null,
   "metadata": {},
   "outputs": [],
   "source": [
    "def export_lut_rgb(cmap_values):\n",
    "    \n",
    "    '''converts and saves a matplotlib format rgba value LUT as an RGB text file that can be imported to FIJI'''\n",
    "    \n",
    "    .\n",
    "    .\n",
    "    .\n",
    "    \n",
    "    return lut_file"
   ]
  },
  {
   "cell_type": "code",
   "execution_count": null,
   "metadata": {},
   "outputs": [],
   "source": [
    "def index_roi_angles(...):\n",
    "    \n",
    "    .\n",
    "    .\n",
    "    .\n",
    "    \n",
    "    return roi_info"
   ]
  },
  {
   "cell_type": "code",
   "execution_count": null,
   "metadata": {},
   "outputs": [],
   "source": [
    "# example cell for user defined strings/locations\n",
    "\n",
    "TOP_PATH = \n",
    "SAVE_PATH = \n",
    "SAVE_PATH = \n",
    "\n",
    "STR_IDENTIFIER = '.tif'\n",
    "FILE_TYPE = '.tif'\n",
    "PROCESS = 'float'"
   ]
  },
  {
   "cell_type": "code",
   "execution_count": null,
   "metadata": {},
   "outputs": [],
   "source": [
    "# example cell for loading images from several folders\n",
    "\n",
    "FILES = os.listdir(TOP_PATH)\n",
    "print(FILES)\n",
    "STR_TRIM = len(FILE_TYPE)\n",
    "\n",
    "IMGS = []\n",
    "NAMES = []\n",
    "for i in FILES:\n",
    "    if i.endswith(STR_IDENTIFIER):\n",
    "        NAMES.append(i[:-STR_TRIM])\n",
    "        if 'Retardance' in i:\n",
    "            IMGS.append((io.imread(os.path.join(TOP_PATH,i)))) # retardance\n",
    "        elif 'Orientation' in i:\n",
    "            if PROCESS == 'float':\n",
    "                IMGS.append(np.around((io.imread(os.path.join(TOP_PATH,i))/100).astype(np.float), decimals=3)) # convert array values to degrees\n",
    "            elif ROCESS == 'int':\n",
    "                IMGS.append((io.imread(os.path.join(TOP_PATH,i))/100).astype(np.uint8)) # convert array values to degrees\n",
    "            else:\n",
    "                print('preprocessing info incomplete')\n",
    "        else:\n",
    "            print('unknown image type')\n",
    "    else:\n",
    "        continue\n",
    "NAMES = tuple(NAMES)\n",
    "IMGS = tuple(IMGS)"
   ]
  }
 ],
 "metadata": {
  "kernelspec": {
   "display_name": "Python 3",
   "language": "python",
   "name": "python3"
  },
  "language_info": {
   "codemirror_mode": {
    "name": "ipython",
    "version": 3
   },
   "file_extension": ".py",
   "mimetype": "text/x-python",
   "name": "python",
   "nbconvert_exporter": "python",
   "pygments_lexer": "ipython3",
   "version": "3.8.0"
  }
 },
 "nbformat": 4,
 "nbformat_minor": 4
}
